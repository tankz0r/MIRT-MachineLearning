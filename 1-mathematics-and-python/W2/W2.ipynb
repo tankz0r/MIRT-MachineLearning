{
 "cells": [
  {
   "cell_type": "code",
   "execution_count": 130,
   "metadata": {
    "collapsed": false
   },
   "outputs": [
    {
     "name": "stdout",
     "output_type": "stream",
     "text": [
      "[[ 0.95275444]\n",
      " [ 0.86447381]\n",
      " [ 0.89517152]\n",
      " [ 0.77708871]\n",
      " [ 0.94023857]\n",
      " [ 0.73273876]\n",
      " [ 0.92587507]\n",
      " [ 0.88427249]\n",
      " [ 0.90550888]\n",
      " [ 0.83281654]\n",
      " [ 0.88047714]\n",
      " [ 0.83964325]\n",
      " [ 0.87035926]\n",
      " [ 0.87401184]\n",
      " [ 0.94427218]\n",
      " [ 0.84063619]\n",
      " [ 0.9566445 ]\n",
      " [ 0.94427218]\n",
      " [ 0.88854436]\n",
      " [ 0.84275727]\n",
      " [ 0.82503645]]\n"
     ]
    }
   ],
   "source": [
    "import numpy as np\n",
    "import re\n",
    "from scipy import spatial\n",
    "file = open('sentences.txt', 'r')\n",
    "str =  file.read()\n",
    "str=str.lower()\n",
    "str=re.split('[^a-z]',str)\n",
    "str=filter(None, str)\n",
    "words_frequencies = dict()\n",
    "i=0\n",
    "for word in str:\n",
    "    if word in words_frequencies.keys():\n",
    "        continue\n",
    "    words_frequencies[word] = i\n",
    "    i+=1;\n",
    "    \n",
    "c = np.zeros((22,254))\n",
    "j=0\n",
    "file1 = open('sentences.txt', 'r')\n",
    "for line in file1.readlines():\n",
    "    str1=line.lower()\n",
    "    str1=re.split('[^a-z]',str1)\n",
    "    str1=filter(None, str1)\n",
    "    for word in str1:\n",
    "        if word in words_frequencies.keys():\n",
    "            c[j,words_frequencies[word]] +=1\n",
    "    j+=1        \n",
    "file2 = open('result.txt', 'w')\n",
    "i=0;\n",
    "j=0;\n",
    "for i in xrange(21):\n",
    "    file2.write('%s' %'\\n'),\n",
    "    for j in xrange(254):     \n",
    "        file2.write('%d' %c[i,j]),\n",
    "file.close()\n",
    "file1.close()\n",
    "file2.close()\n",
    "cos= np.zeros((21,1))\n",
    "for i in xrange(1,22):\n",
    "    cos[i-1,0]=scipy.spatial.distance.cosine(c[0,],c[i,])\n",
    "print cos     "
   ]
  },
  {
   "cell_type": "code",
   "execution_count": null,
   "metadata": {
    "collapsed": true
   },
   "outputs": [],
   "source": []
  },
  {
   "cell_type": "code",
   "execution_count": null,
   "metadata": {
    "collapsed": true
   },
   "outputs": [],
   "source": []
  }
 ],
 "metadata": {
  "kernelspec": {
   "display_name": "Python 2",
   "language": "python",
   "name": "python2"
  },
  "language_info": {
   "codemirror_mode": {
    "name": "ipython",
    "version": 2
   },
   "file_extension": ".py",
   "mimetype": "text/x-python",
   "name": "python",
   "nbconvert_exporter": "python",
   "pygments_lexer": "ipython2",
   "version": "2.7.11"
  }
 },
 "nbformat": 4,
 "nbformat_minor": 0
}
