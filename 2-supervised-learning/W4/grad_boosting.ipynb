{
 "cells": [
  {
   "cell_type": "markdown",
   "metadata": {},
   "source": [
    "# Градиентный бустинг своими руками\n",
    "\n",
    "**Внимание:** в тексте задания произошли изменения - поменялось число деревьев (теперь 50), правило изменения величины шага в задании 3 и добавился параметр `random_state` у решающего дерева. Правильные ответы не поменялись, но теперь их проще получить. Также исправлена опечатка в функции `gbm_predict`.\n",
    "\n",
    "В этом задании будет использоваться датасет `boston` из `sklearn.datasets`. Оставьте последние 25% объектов для контроля качества, разделив `X` и `y` на `X_train`, `y_train` и `X_test`, `y_test`.\n",
    "\n",
    "Целью задания будет реализовать простой вариант градиентного бустинга над регрессионными деревьями для случая квадратичной функции потерь."
   ]
  },
  {
   "cell_type": "code",
   "execution_count": 111,
   "metadata": {
    "collapsed": false
   },
   "outputs": [],
   "source": [
    "from sklearn.datasets import load_boston\n",
    "from sklearn import cross_validation\n",
    "from sklearn.tree import DecisionTreeRegressor \n",
    "from sklearn.metrics import mean_squared_error\n",
    "from sklearn.ensemble import GradientBoostingRegressor  \n",
    "#from sklearn.ensemble import BaggingClassifier, RandomForestClassifier\n",
    "from sklearn import tree\n",
    "import pylab as pl \n",
    "import numpy as np\n",
    "import itertools\n",
    "import matplotlib.pyplot as pylab\n",
    "#from matplotlib.colors import ListedColormap"
   ]
  },
  {
   "cell_type": "code",
   "execution_count": 123,
   "metadata": {
    "collapsed": false
   },
   "outputs": [
    {
     "name": "stdout",
     "output_type": "stream",
     "text": [
      "Populating the interactive namespace from numpy and matplotlib\n"
     ]
    },
    {
     "name": "stderr",
     "output_type": "stream",
     "text": [
      "WARNING: pylab import has clobbered these variables: ['pylab']\n",
      "`%matplotlib` prevents importing * from pylab and numpy\n"
     ]
    }
   ],
   "source": [
    "%pylab inline"
   ]
  },
  {
   "cell_type": "markdown",
   "metadata": {},
   "source": [
    "## Задание 1\n",
    "\n",
    "Как вы уже знаете из лекций, **бустинг** - это метод построения композиций базовых алгоритмов с помощью последовательного добавления к текущей композиции нового алгоритма с некоторым коэффициентом. \n",
    "\n",
    "Градиентный бустинг обучает каждый новый алгоритм так, чтобы он приближал антиградиент ошибки по ответам композиции на обучающей выборке. Аналогично минимизации функций методом градиентного спуска, в градиентном бустинге мы подправляем композицию, изменяя алгоритм в направлении антиградиента ошибки.\n",
    "\n",
    "Воспользуйтесь формулой из лекций, задающей ответы на обучающей выборке, на которые нужно обучать новый алгоритм (фактически это лишь чуть более подробно расписанный градиент от ошибки), и получите частный ее случай, если функция потерь `L` - квадрат отклонения ответа композиции `a(x)` от правильного ответа `y` на данном `x`.\n",
    "\n",
    "Если вы давно не считали производную самостоятельно, вам поможет таблица производных элементарных функций (которую несложно найти в интернете) и правило дифференцирования сложной функции. После дифференцирования квадрата у вас возникнет множитель 2 — т.к. нам все равно предстоит выбирать коэффициент, с которым будет добавлен новый базовый алгоритм, проигноируйте этот множитель при дальнейшем построении алгоритма."
   ]
  },
  {
   "cell_type": "code",
   "execution_count": 84,
   "metadata": {
    "collapsed": true
   },
   "outputs": [],
   "source": [
    "#a\n",
    "def gbm_predict(X, base_algorithms_list, coefficients_list):\n",
    "    return [sum([coeff * algo.predict([x])[0] for algo, coeff in zip(base_algorithms_list, coefficients_list)]) for x in X]\n",
    "\n",
    "def s(X, y, base_algorithms_list, coefficients_list):\n",
    "    return - (gbm_predict(X, base_algorithms_list, coefficients_list) - y)"
   ]
  },
  {
   "cell_type": "markdown",
   "metadata": {},
   "source": [
    "## Задание 2\n",
    "\n",
    "Заведите массив для объектов `DecisionTreeRegressor` (будем их использовать в качестве базовых алгоритмов) и для вещественных чисел (это будут коэффициенты перед базовыми алгоритмами). \n",
    "\n",
    "В цикле от обучите последовательно 50 решающих деревьев с параметрами `max_depth=5` и `random_state=42` (остальные параметры - по умолчанию). В бустинге зачастую используются сотни и тысячи деревьев, но мы ограничимся 50, чтобы алгоритм работал быстрее, и его было проще отлаживать (т.к. цель задания разобраться, как работает метод). Каждое дерево должно обучаться на одном и том же множестве объектов, но ответы, которые учится прогнозировать дерево, будут меняться в соответствие с полученным в задании 1 правилом. \n",
    "\n",
    "Попробуйте для начала всегда брать коэффициент равным 0.9. Обычно оправдано выбирать коэффициент значительно меньшим - порядка 0.05 или 0.1, но т.к. в нашем учебном примере на стандартном датасете будет всего 50 деревьев, возьмем для начала шаг побольше.\n",
    "\n",
    "В процессе реализации обучения вам потребуется функция, которая будет вычислять прогноз построенной на данный момент композиции деревьев на выборке `X`:\n",
    "\n",
    "```\n",
    "def gbm_predict(X):\n",
    "    return [sum([coeff * algo.predict([x])[0] for algo, coeff in zip(base_algorithms_list, coefficients_list)]) for x in X]\n",
    "(считаем, что base_algorithms_list - список с базовыми алгоритмами, coefficients_list - список с коэффициентами перед алгоритмами)\n",
    "```\n",
    "\n",
    "Эта же функция поможет вам получить прогноз на контрольной выборке и оценить качество работы вашего алгоритма с помощью `mean_squared_error` в `sklearn.metrics`. \n",
    "\n",
    "Возведите результат в степень 0.5, чтобы получить `RMSE`. Полученное значение `RMSE` — **ответ в пункте 2**."
   ]
  },
  {
   "cell_type": "code",
   "execution_count": 89,
   "metadata": {
    "collapsed": false
   },
   "outputs": [
    {
     "name": "stdout",
     "output_type": "stream",
     "text": [
      "[  6.32000000e-03   1.80000000e+01   2.31000000e+00   0.00000000e+00\n",
      "   5.38000000e-01   6.57500000e+00   6.52000000e+01   4.09000000e+00\n",
      "   1.00000000e+00   2.96000000e+02   1.53000000e+01   3.96900000e+02\n",
      "   4.98000000e+00]\n"
     ]
    }
   ],
   "source": [
    "\n",
    "X = boston_data['data']\n",
    "y = boston_data['target']\n",
    "last_element = int(len(X) * .25)\n",
    "# X_train, X_test, y_train, y_test = cross_validation.train_test_split(X, y, test_size = 0.25)\n",
    "train_data = X[:-last_element]\n",
    "test_data = X[-last_element:]\n",
    "train_labels = y[:-last_element]\n",
    "test_labels = y[-last_element:]\n",
    "print train_data[0]\n"
   ]
  },
  {
   "cell_type": "code",
   "execution_count": 95,
   "metadata": {
    "collapsed": true
   },
   "outputs": [],
   "source": [
    "def busting(X,y,N,s_init, base_algorithms_list, coefficients_list):\n",
    "    for i in range(N-1):\n",
    "        print i\n",
    "        print s_init[0]\n",
    "        new_tree = DecisionTreeRegressor(max_depth=5, random_state=42)\n",
    "        new_tree.fit(X,s_init)\n",
    "        base_algorithms_list.append(new_tree) \n",
    "        coefficients_list.append(0.9 / (1.0 + i))\n",
    "        s_init = s(X, y, base_algorithms_list, coefficients_list)\n",
    "    return base_algorithms_list, coefficients_list\n",
    "def write_answer(ans):\n",
    "    with open('answer.txt', 'w') as f_out:\n",
    "        f_out.write(str(np.round(ans)))"
   ]
  },
  {
   "cell_type": "code",
   "execution_count": 96,
   "metadata": {
    "collapsed": false
   },
   "outputs": [
    {
     "name": "stdout",
     "output_type": "stream",
     "text": [
      "0\n",
      "-0.102\n",
      "1\n",
      "-0.0102\n",
      "2\n",
      "-0.326012929941\n",
      "3\n",
      "-0.537956078789\n",
      "4\n",
      "-0.483369008456\n",
      "5\n",
      "-0.335430022699\n",
      "6\n",
      "-0.368072987698\n",
      "7\n",
      "-0.226410147454\n",
      "8\n",
      "-0.163077965661\n",
      "9\n",
      "-0.171586779438\n",
      "10\n",
      "-0.18046203796\n",
      "11\n",
      "-0.152467663351\n",
      "12\n",
      "-0.172445536166\n",
      "13\n",
      "-0.105414305938\n",
      "14\n",
      "-0.108589511009\n",
      "15\n",
      "-0.0791597196762\n",
      "16\n",
      "-0.0343762373026\n",
      "17\n",
      "-0.0367593773695\n",
      "18\n",
      "-0.048951244275\n",
      "19\n",
      "-0.0537686821168\n",
      "20\n",
      "-0.0233840342915\n",
      "21\n",
      "-0.0245954274849\n",
      "22\n",
      "-0.010742213043\n",
      "23\n",
      "0.0143527679921\n",
      "24\n",
      "0.0216059800739\n",
      "25\n",
      "0.0243041875389\n",
      "26\n",
      "0.0209463981465\n",
      "27\n",
      "0.0229951135801\n",
      "28\n",
      "0.0239126230279\n",
      "29\n",
      "0.0365596177619\n",
      "30\n",
      "0.0339441816625\n",
      "31\n",
      "0.032392435515\n",
      "32\n",
      "0.0435199340294\n",
      "33\n",
      "0.0381224250447\n",
      "34\n",
      "0.0431028505692\n",
      "35\n",
      "0.04340165182\n",
      "36\n",
      "0.0427295975749\n",
      "37\n",
      "0.0423058181708\n",
      "38\n",
      "0.0340029295686\n",
      "39\n",
      "0.0346714849708\n",
      "40\n",
      "0.0343061072773\n",
      "41\n",
      "0.0375279414905\n",
      "42\n",
      "0.030313800932\n",
      "43\n",
      "0.0341230540872\n",
      "44\n",
      "0.0274146738449\n",
      "45\n",
      "0.0287527659124\n",
      "46\n",
      "0.0275175780903\n",
      "47\n",
      "0.0153402990166\n",
      "48\n",
      "0.0158651828571\n"
     ]
    }
   ],
   "source": [
    "b_init = DecisionTreeRegressor(max_depth=5, random_state=42)\n",
    "b_init.fit(train_data, train_labels)\n",
    "base_algorithms_list = [b_init]\n",
    "coefficients_list = [0.9]\n",
    "s_init = s(train_data, train_labels, base_algorithms_list, coefficients_list)\n",
    "N = 50\n",
    "base_algorithms_list, coefficients_list = busting(train_data, train_labels, N, s_init, base_algorithms_list, coefficients_list)"
   ]
  },
  {
   "cell_type": "code",
   "execution_count": 97,
   "metadata": {
    "collapsed": false
   },
   "outputs": [
    {
     "name": "stdout",
     "output_type": "stream",
     "text": [
      "mse = 26, rmse = 5\n"
     ]
    }
   ],
   "source": [
    "mse = mean_squared_error(test_labels, gbm_predict(test_data, base_algorithms_list, coefficients_list))\n",
    "rmse = mse ** .5\n",
    "print(\"mse = %d, rmse = %d\" % (mse, rmse))"
   ]
  },
  {
   "cell_type": "code",
   "execution_count": 93,
   "metadata": {
    "collapsed": false
   },
   "outputs": [
    {
     "data": {
      "text/plain": [
       "50"
      ]
     },
     "execution_count": 93,
     "metadata": {},
     "output_type": "execute_result"
    }
   ],
   "source": [
    "len( base_algorithms_list)"
   ]
  },
  {
   "cell_type": "code",
   "execution_count": 94,
   "metadata": {
    "collapsed": false
   },
   "outputs": [],
   "source": [
    "write_answer(rmse)"
   ]
  },
  {
   "cell_type": "markdown",
   "metadata": {},
   "source": [
    "## Задание 3\n",
    "\n",
    "Вас может также беспокоить, что двигаясь с постоянным шагом, вблизи минимума ошибки ответы на обучающей выборке меняются слишком резко, перескакивая через минимум. \n",
    "\n",
    "Попробуйте уменьшать вес перед каждым алгоритмом с каждой следующей итерацией по формуле `0.9 / (1.0 + i)`, где `i` - номер итерации (от 0 до 9). Используйте качество работы алгоритма как **ответ в пункте 3**. \n",
    "\n",
    "В реальности часто применяется следующая стратегия выбора шага: как только выбран алгоритм, подберем коэффициент перед ним численным методом оптимизации таким образом, чтобы отклонение от правильных ответов было минимальным. Мы не будем предлагать вам реализовать это для выполнения задания, но рекомендуем попробовать разобраться с такой стратегией и реализовать ее при случае для себя."
   ]
  },
  {
   "cell_type": "code",
   "execution_count": null,
   "metadata": {
    "collapsed": true
   },
   "outputs": [],
   "source": []
  },
  {
   "cell_type": "markdown",
   "metadata": {},
   "source": [
    "## Задание 4\n",
    "\n",
    "Реализованный вами метод - градиентный бустинг над деревьями - очень популярен в машинном обучении. Он представлен как в самой библиотеке `sklearn`, так и в сторонней библиотеке `XGBoost`, которая имеет свой питоновский интерфейс. На практике `XGBoost` работает заметно лучше `GradientBoostingRegressor` из `sklearn`, но для этого задания вы можете использовать любую реализацию. \n",
    "\n",
    "Исследуйте, переобучается ли градиентный бустинг с ростом числа итераций (и подумайте, почему), а также с ростом глубины деревьев. На основе наблюдений выпишите через пробел номера правильных из приведенных ниже утверждений в порядке возрастания номера (это будет **ответ в п.4**):\n",
    "\n",
    "    1. С увеличением числа деревьев, начиная с некоторого момента, качество работы градиентного бустинга не меняется существенно.\n",
    "\n",
    "    2. С увеличением числа деревьев, начиная с некоторого момента, градиентный бустинг начинает переобучаться.\n",
    "\n",
    "    3. С ростом глубины деревьев, начиная с некоторого момента, качество работы градиентного бустинга на тестовой выборке начинает ухудшаться.\n",
    "\n",
    "    4. С ростом глубины деревьев, начиная с некоторого момента, качество работы градиентного бустинга перестает существенно изменяться"
   ]
  },
  {
   "cell_type": "code",
   "execution_count": 106,
   "metadata": {
    "collapsed": false
   },
   "outputs": [
    {
     "data": {
      "text/plain": [
       "-1.3667661356744474"
      ]
     },
     "execution_count": 106,
     "metadata": {},
     "output_type": "execute_result"
    }
   ],
   "source": [
    "estimator = GradientBoostingRegressor(learning_rate=0.1, max_depth=5, n_estimators= 5)\n",
    "estimator.fit(train_data, train_labels)\n",
    "estimator.score(test_data, test_labels)\n",
    "#score = cross_validation.cross_val_score(estimator, train_data, train_labels, scoring = 'accuracy', cv = 3)   \n"
   ]
  },
  {
   "cell_type": "code",
   "execution_count": 125,
   "metadata": {
    "collapsed": false
   },
   "outputs": [],
   "source": [
    "scoring = []\n",
    "n_trees = [1] + range(10, 55, 5) \n",
    "for n_tree in n_trees:\n",
    "    estimator = GradientBoostingRegressor(learning_rate=0.1, max_depth=10, n_estimators= n_tree)\n",
    "    estimator.fit(train_data, train_labels)\n",
    "    score = estimator.score(test_data, test_labels)    \n",
    "    scoring.append(score)\n",
    "#scoring = np.asmatrix(scoring)\n",
    "\n"
   ]
  },
  {
   "cell_type": "code",
   "execution_count": 126,
   "metadata": {
    "collapsed": false
   },
   "outputs": [
    {
     "name": "stdout",
     "output_type": "stream",
     "text": [
      "[-3.0097945875545431, -0.92898853186299057, -0.42441195977125834, -0.29033992082575444, -0.24145285330032373, -0.32843858981615903, -0.25296826908535985, -0.12981110495106662, -0.088459094367528968, -0.18848385707765347]\n",
      "[1, 10, 15, 20, 25, 30, 35, 40, 45, 50]\n"
     ]
    }
   ],
   "source": [
    "print scoring\n",
    "print n_trees"
   ]
  },
  {
   "cell_type": "code",
   "execution_count": 127,
   "metadata": {
    "collapsed": false
   },
   "outputs": [
    {
     "data": {
      "text/plain": [
       "<matplotlib.legend.Legend at 0x7fc3cd9caf90>"
      ]
     },
     "execution_count": 127,
     "metadata": {},
     "output_type": "execute_result"
    },
    {
     "data": {
      "image/png": "[encoded data removed]",
      "text/plain": [
       "<matplotlib.figure.Figure at 0x7fc3b65cffd0>"
      ]
     },
     "metadata": {},
     "output_type": "display_data"
    }
   ],
   "source": [
    "pylab.plot(n_trees, scoring, marker='.', label='RandomForest')\n",
    "pylab.grid(True)\n",
    "pylab.xlabel('n_trees')\n",
    "pylab.ylabel('score')\n",
    "pylab.title('Accuracy score')\n",
    "pylab.legend(loc='lower right')\n"
   ]
  },
  {
   "cell_type": "markdown",
   "metadata": {},
   "source": [
    "## Задание 5\n",
    "\n",
    "Сравните получаемое с помощью градиентного бустинга качество с качеством работы линейной регрессии. \n",
    "\n",
    "Для этого обучите `LinearRegression` из `sklearn.linear_model` (с параметрами по умолчанию) на обучающей выборке и оцените для прогнозов полученного алгоритма на тестовой выборке `RMSE`. Полученное качество - ответ в **пункте 5**. \n",
    "\n",
    "В данном примере качество работы простой модели должно было оказаться хуже, но не стоит забывать, что так бывает не всегда. В заданиях к этому курсу вы еще встретите пример обратной ситуации."
   ]
  },
  {
   "cell_type": "code",
   "execution_count": null,
   "metadata": {
    "collapsed": true
   },
   "outputs": [],
   "source": []
  }
 ],
 "metadata": {
  "kernelspec": {
   "display_name": "Python 2",
   "language": "python",
   "name": "python2"
  },
  "language_info": {
   "codemirror_mode": {
    "name": "ipython",
    "version": 2
   },
   "file_extension": ".py",
   "mimetype": "text/x-python",
   "name": "python",
   "nbconvert_exporter": "python",
   "pygments_lexer": "ipython2",
   "version": "2.7.11"
  }
 },
 "nbformat": 4,
 "nbformat_minor": 0
}
